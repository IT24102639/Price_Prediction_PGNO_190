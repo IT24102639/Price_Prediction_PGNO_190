{
  "nbformat": 4,
  "nbformat_minor": 0,
  "metadata": {
    "colab": {
      "provenance": []
    },
    "kernelspec": {
      "name": "python3",
      "display_name": "Python 3"
    },
    "language_info": {
      "name": "python"
    }
  },
  "cells": [
    {
      "cell_type": "code",
      "execution_count": 2,
      "metadata": {
        "colab": {
          "base_uri": "https://localhost:8080/"
        },
        "collapsed": true,
        "id": "8siec59G4zkS",
        "outputId": "a3e20012-7c52-47c7-bc4b-a0f5f9f9544e"
      },
      "outputs": [
        {
          "output_type": "stream",
          "name": "stdout",
          "text": [
            "Drive already mounted at /content/drive; to attempt to forcibly remount, call drive.mount(\"/content/drive\", force_remount=True).\n",
            "<class 'pandas.core.frame.DataFrame'>\n",
            "Index: 453 entries, 0 to 1020\n",
            "Data columns (total 16 columns):\n",
            " #   Column               Non-Null Count  Dtype  \n",
            "---  ------               --------------  -----  \n",
            " 0   product_id           453 non-null    object \n",
            " 1   product_name         453 non-null    object \n",
            " 2   category             453 non-null    object \n",
            " 3   discounted_price     453 non-null    float64\n",
            " 4   actual_price         453 non-null    float64\n",
            " 5   discount_percentage  453 non-null    int64  \n",
            " 6   rating               453 non-null    float64\n",
            " 7   rating_count         451 non-null    float64\n",
            " 8   about_product        453 non-null    object \n",
            " 9   user_id              453 non-null    object \n",
            " 10  user_name            453 non-null    object \n",
            " 11  review_id            453 non-null    object \n",
            " 12  review_title         453 non-null    object \n",
            " 13  review_content       453 non-null    object \n",
            " 14  img_link             453 non-null    object \n",
            " 15  product_link         453 non-null    object \n",
            "dtypes: float64(4), int64(1), object(11)\n",
            "memory usage: 60.2+ KB\n",
            "None\n",
            "   product_id                                       product_name  \\\n",
            "0  B07JW9H4J1  Wayona Nylon Braided USB to Lightning Fast Cha...   \n",
            "1  B098NS6PVG  Ambrane Unbreakable 60W / 3A Fast Charging 1.5...   \n",
            "2  B096MSW6CT  Sounce Fast Phone Charging Cable & Data Sync U...   \n",
            "3  B08HDJ86NZ  boAt Deuce USB 300 2 in 1 Type-C & Micro USB S...   \n",
            "4  B08CF3B7N1  Portronics Konnect L 1.2M Fast Charging 3A 8 P...   \n",
            "\n",
            "                                            category  discounted_price  \\\n",
            "0  Computers&Accessories|Accessories&Peripherals|...             399.0   \n",
            "1  Computers&Accessories|Accessories&Peripherals|...             199.0   \n",
            "2  Computers&Accessories|Accessories&Peripherals|...             199.0   \n",
            "3  Computers&Accessories|Accessories&Peripherals|...             329.0   \n",
            "4  Computers&Accessories|Accessories&Peripherals|...             154.0   \n",
            "\n",
            "   actual_price  discount_percentage  rating  rating_count  \\\n",
            "0        1099.0                   64     4.2       24269.0   \n",
            "1         349.0                   43     4.0       43994.0   \n",
            "2        1899.0                   90     3.9        7928.0   \n",
            "3         699.0                   53     4.2       94363.0   \n",
            "4         399.0                   61     4.2       16905.0   \n",
            "\n",
            "                                       about_product  \\\n",
            "0  High Compatibility : Compatible With iPhone 12...   \n",
            "1  Compatible with all Type C enabled devices, be...   \n",
            "2  【 Fast Charger& Data Sync】-With built-in safet...   \n",
            "3  The boAt Deuce USB 300 2 in 1 cable is compati...   \n",
            "4  [CHARGE & SYNC FUNCTION]- This cable comes wit...   \n",
            "\n",
            "                                             user_id  \\\n",
            "0  AG3D6O4STAQKAY2UVGEUV46KN35Q,AHMY5CWJMMK5BJRBB...   \n",
            "1  AECPFYFQVRUWC3KGNLJIOREFP5LQ,AGYYVPDD7YG7FYNBX...   \n",
            "2  AGU3BBQ2V2DDAMOAKGFAWDDQ6QHA,AESFLDV2PT363T2AQ...   \n",
            "3  AEWAZDZZJLQUYVOVGBEUKSLXHQ5A,AG5HTSFRRE6NL3M5S...   \n",
            "4  AE3Q6KSUK5P75D5HFYHCRAOLODSA,AFUGIFH5ZAFXRDSZH...   \n",
            "\n",
            "                                           user_name  \\\n",
            "0  Manav,Adarsh gupta,Sundeep,S.Sayeed Ahmed,jasp...   \n",
            "1  ArdKn,Nirbhay kumar,Sagar Viswanathan,Asp,Plac...   \n",
            "2  Kunal,Himanshu,viswanath,sai niharka,saqib mal...   \n",
            "3  Omkar dhale,JD,HEMALATHA,Ajwadh a.,amar singh ...   \n",
            "4  rahuls6099,Swasat Borah,Ajay Wadke,Pranali,RVK...   \n",
            "\n",
            "                                           review_id  \\\n",
            "0  R3HXWT0LRP0NMF,R2AJM3LFTLZHFO,R6AQJGUP6P86,R1K...   \n",
            "1  RGIQEG07R9HS2,R1SMWZQ86XIN8U,R2J3Y1WL29GWDE,RY...   \n",
            "2  R3J3EQQ9TZI5ZJ,R3E7WBGK7ID0KV,RWU79XKQ6I1QF,R2...   \n",
            "3  R3EEUZKKK9J36I,R3HJVYCLYOY554,REDECAZ7AMPQC,R1...   \n",
            "4  R1BP4L2HH9TFUP,R16PVJEXKV6QZS,R2UPDB81N66T4P,R...   \n",
            "\n",
            "                                        review_title  \\\n",
            "0  Satisfied,Charging is really fast,Value for mo...   \n",
            "1  A Good Braided Cable for Your Type C Device,Go...   \n",
            "2  Good speed for earlier versions,Good Product,W...   \n",
            "3  Good product,Good one,Nice,Really nice product...   \n",
            "4  As good as original,Decent,Good one for second...   \n",
            "\n",
            "                                      review_content  \\\n",
            "0  Looks durable Charging is fine tooNo complains...   \n",
            "1  I ordered this cable to connect my phone to An...   \n",
            "2  Not quite durable and sturdy,https://m.media-a...   \n",
            "3  Good product,long wire,Charges good,Nice,I bou...   \n",
            "4  Bought this instead of original apple, does th...   \n",
            "\n",
            "                                            img_link  \\\n",
            "0  https://m.media-amazon.com/images/W/WEBP_40237...   \n",
            "1  https://m.media-amazon.com/images/W/WEBP_40237...   \n",
            "2  https://m.media-amazon.com/images/W/WEBP_40237...   \n",
            "3  https://m.media-amazon.com/images/I/41V5FtEWPk...   \n",
            "4  https://m.media-amazon.com/images/W/WEBP_40237...   \n",
            "\n",
            "                                        product_link  \n",
            "0  https://www.amazon.in/Wayona-Braided-WN3LG1-Sy...  \n",
            "1  https://www.amazon.in/Ambrane-Unbreakable-Char...  \n",
            "2  https://www.amazon.in/Sounce-iPhone-Charging-C...  \n",
            "3  https://www.amazon.in/Deuce-300-Resistant-Tang...  \n",
            "4  https://www.amazon.in/Portronics-Konnect-POR-1...  \n"
          ]
        }
      ],
      "source": [
        "from google.colab import drive\n",
        "drive.mount('/content/drive')\n",
        "\n",
        "import pandas as pd\n",
        "import numpy as np\n",
        "import matplotlib.pyplot as plt\n",
        "import seaborn as sns\n",
        "from sklearn.preprocessing import LabelEncoder, StandardScaler\n",
        "\n",
        "# Load dataset\n",
        "data_path = '/content/drive/My Drive/PGNO-190/amazon.csv'  # Member 1\n",
        "\n",
        "df = pd.read_csv(data_path)\n",
        "\n",
        "# Filter to Computers&Accessories\n",
        "df = df[df['category'].str.contains('Computers&Accessories', na=False)].copy()\n",
        "\n",
        "# Initial cleaning of numerical columns\n",
        "for col in ['discounted_price', 'actual_price', 'discount_percentage', 'rating_count']:\n",
        "    if col in df.columns:\n",
        "        df[col] = pd.to_numeric(df[col].str.replace('₹', '').str.replace(',', '').str.replace('%', '', regex=False), errors='coerce')\n",
        "df['rating'] = pd.to_numeric(df['rating'], errors='coerce')\n",
        "\n",
        "print(df.info())\n",
        "print(df.head())"
      ]
    },
    {
      "cell_type": "code",
      "source": [
        "\n",
        "\n",
        "# Handle missing data\n",
        "num_cols = ['discounted_price', 'actual_price', 'discount_percentage', 'rating', 'rating_count']\n",
        "for col in num_cols:\n",
        "    if col in df.columns:\n",
        "        df[col] = df[col].fillna(df[col].median())\n",
        "\n",
        "text_cols = ['about_product', 'user_id', 'user_name', 'review_id', 'review_title', 'review_content', 'img_link', 'product_link']\n",
        "for col in text_cols:\n",
        "    if col in df.columns:\n",
        "        df[col] = df[col].fillna('Unknown')\n",
        "\n",
        "# Verify\n",
        "print(df.isnull().sum())\n",
        "\n",
        "# EDA: Histogram of discounted_price\n",
        "plt.figure(figsize=(10,5))\n",
        "sns.histplot(df['discounted_price'].dropna(), kde=True)\n",
        "plt.title('Distribution of Discounted Price')\n",
        "plt.xlabel('Discounted Price (INR)')\n",
        "plt.ylabel('Frequency')\n",
        "plt.savefig('/content/eda_discounted_price_hist.png')\n",
        "plt.show()\n",
        "\n",
        "# Interpretation: The distribution is right-skewed, indicating most prices are low with some high outliers.\n",
        "\n",
        "# Save\n",
        "save_path = '/content/drive/My Drive/PGNO-190/preprocessed_after_IT24102586.csv'\n",
        "df.to_csv(save_path, index=False)\n",
        "print(f'Saved to {save_path}')"
      ],
      "metadata": {
        "colab": {
          "base_uri": "https://localhost:8080/",
          "height": 819
        },
        "id": "El56mqUs5JA8",
        "outputId": "0d54f04b-486b-4da3-aa76-bd64609caa94"
      },
      "execution_count": 3,
      "outputs": [
        {
          "output_type": "stream",
          "name": "stdout",
          "text": [
            "product_id             0\n",
            "product_name           0\n",
            "category               0\n",
            "discounted_price       0\n",
            "actual_price           0\n",
            "discount_percentage    0\n",
            "rating                 0\n",
            "rating_count           0\n",
            "about_product          0\n",
            "user_id                0\n",
            "user_name              0\n",
            "review_id              0\n",
            "review_title           0\n",
            "review_content         0\n",
            "img_link               0\n",
            "product_link           0\n",
            "dtype: int64\n"
          ]
        },
        {
          "output_type": "display_data",
          "data": {
            "text/plain": [
              "<Figure size 1000x500 with 1 Axes>"
            ],
            "image/png": "[encoded data removed]"
          },
          "metadata": {}
        },
        {
          "output_type": "stream",
          "name": "stdout",
          "text": [
            "Saved to /content/drive/My Drive/PGNO-190/preprocessed_after_IT24102586.csv\n"
          ]
        }
      ]
    }
  ]
}